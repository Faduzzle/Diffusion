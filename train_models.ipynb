{
 "cells": [
  {
   "cell_type": "markdown",
   "id": "36fb0410",
   "metadata": {},
   "source": [
    "# Conditional Diffusion Training\n",
    "Train a transformer-based conditional diffusion model for time series."
   ]
  },
  {
   "cell_type": "code",
   "execution_count": 1,
   "id": "c7bec91d",
   "metadata": {},
   "outputs": [
    {
     "name": "stderr",
     "output_type": "stream",
     "text": [
      "c:\\Users\\thoma\\anaconda3\\envs\\MachineLearning\\Lib\\site-packages\\tqdm\\auto.py:21: TqdmWarning: IProgress not found. Please update jupyter and ipywidgets. See https://ipywidgets.readthedocs.io/en/stable/user_install.html\n",
      "  from .autonotebook import tqdm as notebook_tqdm\n"
     ]
    },
    {
     "name": "stdout",
     "output_type": "stream",
     "text": [
      "Using device: cuda\n"
     ]
    }
   ],
   "source": [
    "import torch\n",
    "from model import ConditionalScoreNet\n",
    "from data import generate_sine_sequence\n",
    "from trainer import train_diffusion_model_conditional\n",
    "from sde import VPSDE\n",
    "\n",
    "device = torch.device(\"cuda\" if torch.cuda.is_available() else \"cpu\")\n",
    "print(\"Using device:\", device)\n"
   ]
  },
  {
   "cell_type": "code",
   "execution_count": 2,
   "id": "8b9f8cd8",
   "metadata": {},
   "outputs": [],
   "source": [
    "# Hyperparameters\n",
    "num_samples = 1000\n",
    "history_len = 150\n",
    "predict_len = 20\n",
    "total_len = history_len + predict_len\n",
    "input_dim = 1\n",
    "batch_size = 128\n",
    "num_epochs = 500\n",
    "lr = 4e-4\n",
    "num_diffusion_timesteps = 1000\n",
    "checkpoint_path = \"checkpoints/score_model.pth\"\n"
   ]
  },
  {
   "cell_type": "code",
   "execution_count": 3,
   "id": "ed5acb16",
   "metadata": {},
   "outputs": [
    {
     "name": "stdout",
     "output_type": "stream",
     "text": [
      "Data shape: torch.Size([1000, 170, 1])\n"
     ]
    }
   ],
   "source": [
    "# Generate sine sequences\n",
    "data = generate_sine_sequence(num_samples, total_len, input_dim=input_dim)\n",
    "print(\"Data shape:\", data.shape)\n"
   ]
  },
  {
   "cell_type": "code",
   "execution_count": 4,
   "id": "068bd6b3",
   "metadata": {},
   "outputs": [],
   "source": [
    "model = ConditionalScoreNet(input_dim=input_dim,\n",
    "                            history_len=history_len,\n",
    "                            predict_len=predict_len).to(device)\n",
    "optimizer = torch.optim.Adam(model.parameters(), lr=lr)\n"
   ]
  },
  {
   "cell_type": "code",
   "execution_count": 5,
   "id": "3f58088c",
   "metadata": {},
   "outputs": [
    {
     "name": "stderr",
     "output_type": "stream",
     "text": [
      "Training Progress:   0%|          | 1/500 [00:04<35:55,  4.32s/it, loss=40.4342]"
     ]
    },
    {
     "name": "stdout",
     "output_type": "stream",
     "text": [
      "Best model checkpoint saved at epoch 1 to checkpoints/score_model.pth\n"
     ]
    },
    {
     "name": "stderr",
     "output_type": "stream",
     "text": [
      "Training Progress:   0%|          | 2/500 [00:07<30:34,  3.68s/it, loss=12.3428]"
     ]
    },
    {
     "name": "stdout",
     "output_type": "stream",
     "text": [
      "Best model checkpoint saved at epoch 2 to checkpoints/score_model.pth\n"
     ]
    },
    {
     "name": "stderr",
     "output_type": "stream",
     "text": [
      "Training Progress:   1%|          | 3/500 [00:10<28:41,  3.46s/it, loss=7.1490] "
     ]
    },
    {
     "name": "stdout",
     "output_type": "stream",
     "text": [
      "Best model checkpoint saved at epoch 3 to checkpoints/score_model.pth\n"
     ]
    },
    {
     "name": "stderr",
     "output_type": "stream",
     "text": [
      "Training Progress:   1%|          | 4/500 [00:13<27:45,  3.36s/it, loss=5.9149]"
     ]
    },
    {
     "name": "stdout",
     "output_type": "stream",
     "text": [
      "Best model checkpoint saved at epoch 4 to checkpoints/score_model.pth\n"
     ]
    },
    {
     "name": "stderr",
     "output_type": "stream",
     "text": [
      "Training Progress:   1%|          | 5/500 [00:17<27:19,  3.31s/it, loss=5.1089]"
     ]
    },
    {
     "name": "stdout",
     "output_type": "stream",
     "text": [
      "Best model checkpoint saved at epoch 5 to checkpoints/score_model.pth\n"
     ]
    },
    {
     "name": "stderr",
     "output_type": "stream",
     "text": [
      "Training Progress:   1%|          | 6/500 [00:20<27:03,  3.29s/it, loss=4.9036]"
     ]
    },
    {
     "name": "stdout",
     "output_type": "stream",
     "text": [
      "Best model checkpoint saved at epoch 6 to checkpoints/score_model.pth\n"
     ]
    },
    {
     "name": "stderr",
     "output_type": "stream",
     "text": [
      "Training Progress:   1%|▏         | 7/500 [00:23<26:54,  3.27s/it, loss=4.5751]"
     ]
    },
    {
     "name": "stdout",
     "output_type": "stream",
     "text": [
      "Best model checkpoint saved at epoch 7 to checkpoints/score_model.pth\n"
     ]
    },
    {
     "name": "stderr",
     "output_type": "stream",
     "text": [
      "Training Progress:   2%|▏         | 9/500 [00:30<26:32,  3.24s/it, loss=4.3948]"
     ]
    },
    {
     "name": "stdout",
     "output_type": "stream",
     "text": [
      "Best model checkpoint saved at epoch 9 to checkpoints/score_model.pth\n"
     ]
    },
    {
     "name": "stderr",
     "output_type": "stream",
     "text": [
      "Training Progress:   3%|▎         | 13/500 [00:42<25:48,  3.18s/it, loss=4.1506]"
     ]
    },
    {
     "name": "stdout",
     "output_type": "stream",
     "text": [
      "Best model checkpoint saved at epoch 13 to checkpoints/score_model.pth\n"
     ]
    },
    {
     "name": "stderr",
     "output_type": "stream",
     "text": [
      "Training Progress:   3%|▎         | 17/500 [00:55<25:24,  3.16s/it, loss=4.1044]"
     ]
    },
    {
     "name": "stdout",
     "output_type": "stream",
     "text": [
      "Best model checkpoint saved at epoch 17 to checkpoints/score_model.pth\n"
     ]
    },
    {
     "name": "stderr",
     "output_type": "stream",
     "text": [
      "Training Progress:   4%|▎         | 18/500 [00:58<25:27,  3.17s/it, loss=3.7038]"
     ]
    },
    {
     "name": "stdout",
     "output_type": "stream",
     "text": [
      "Best model checkpoint saved at epoch 18 to checkpoints/score_model.pth\n"
     ]
    },
    {
     "name": "stderr",
     "output_type": "stream",
     "text": [
      "Training Progress:   4%|▍         | 21/500 [01:16<39:21,  4.93s/it, loss=3.4524]"
     ]
    },
    {
     "name": "stdout",
     "output_type": "stream",
     "text": [
      "Best model checkpoint saved at epoch 21 to checkpoints/score_model.pth\n"
     ]
    },
    {
     "name": "stderr",
     "output_type": "stream",
     "text": [
      "Training Progress:   5%|▍         | 23/500 [01:22<32:11,  4.05s/it, loss=3.2846]"
     ]
    },
    {
     "name": "stdout",
     "output_type": "stream",
     "text": [
      "Best model checkpoint saved at epoch 23 to checkpoints/score_model.pth\n"
     ]
    },
    {
     "name": "stderr",
     "output_type": "stream",
     "text": [
      "Training Progress:   5%|▍         | 24/500 [01:25<30:15,  3.81s/it, loss=3.2760]"
     ]
    },
    {
     "name": "stdout",
     "output_type": "stream",
     "text": [
      "Best model checkpoint saved at epoch 24 to checkpoints/score_model.pth\n"
     ]
    },
    {
     "name": "stderr",
     "output_type": "stream",
     "text": [
      "Training Progress:   5%|▌         | 25/500 [01:29<28:52,  3.65s/it, loss=3.2690]"
     ]
    },
    {
     "name": "stdout",
     "output_type": "stream",
     "text": [
      "Best model checkpoint saved at epoch 25 to checkpoints/score_model.pth\n"
     ]
    },
    {
     "name": "stderr",
     "output_type": "stream",
     "text": [
      "Training Progress:   5%|▌         | 26/500 [01:32<27:53,  3.53s/it, loss=3.1535]"
     ]
    },
    {
     "name": "stdout",
     "output_type": "stream",
     "text": [
      "Best model checkpoint saved at epoch 26 to checkpoints/score_model.pth\n"
     ]
    },
    {
     "name": "stderr",
     "output_type": "stream",
     "text": [
      "Training Progress:   6%|▌         | 30/500 [01:45<25:39,  3.28s/it, loss=3.0028]"
     ]
    },
    {
     "name": "stdout",
     "output_type": "stream",
     "text": [
      "Best model checkpoint saved at epoch 30 to checkpoints/score_model.pth\n"
     ]
    },
    {
     "name": "stderr",
     "output_type": "stream",
     "text": [
      "Training Progress:   6%|▌         | 31/500 [01:48<25:32,  3.27s/it, loss=2.9680]"
     ]
    },
    {
     "name": "stdout",
     "output_type": "stream",
     "text": [
      "Best model checkpoint saved at epoch 31 to checkpoints/score_model.pth\n"
     ]
    },
    {
     "name": "stderr",
     "output_type": "stream",
     "text": [
      "Training Progress:   7%|▋         | 34/500 [01:57<25:05,  3.23s/it, loss=2.8887]"
     ]
    },
    {
     "name": "stdout",
     "output_type": "stream",
     "text": [
      "Best model checkpoint saved at epoch 34 to checkpoints/score_model.pth\n"
     ]
    },
    {
     "name": "stderr",
     "output_type": "stream",
     "text": [
      "Training Progress:   8%|▊         | 38/500 [02:10<24:43,  3.21s/it, loss=2.7633]"
     ]
    },
    {
     "name": "stdout",
     "output_type": "stream",
     "text": [
      "Best model checkpoint saved at epoch 38 to checkpoints/score_model.pth\n"
     ]
    },
    {
     "name": "stderr",
     "output_type": "stream",
     "text": [
      "Training Progress:   8%|▊         | 39/500 [02:16<24:32,  3.19s/it, loss=2.6115]"
     ]
    },
    {
     "name": "stdout",
     "output_type": "stream",
     "text": [
      "Best model checkpoint saved at epoch 40 to checkpoints/score_model.pth\n"
     ]
    },
    {
     "name": "stderr",
     "output_type": "stream",
     "text": [
      "Training Progress:  10%|▉         | 49/500 [02:48<25:46,  3.43s/it, loss=2.8346]\n"
     ]
    },
    {
     "ename": "KeyboardInterrupt",
     "evalue": "",
     "output_type": "error",
     "traceback": [
      "\u001b[1;31m---------------------------------------------------------------------------\u001b[0m",
      "\u001b[1;31mKeyboardInterrupt\u001b[0m                         Traceback (most recent call last)",
      "Cell \u001b[1;32mIn[5], line 1\u001b[0m\n\u001b[1;32m----> 1\u001b[0m train_diffusion_model_conditional(\n\u001b[0;32m      2\u001b[0m     data_x\u001b[38;5;241m=\u001b[39mdata,\n\u001b[0;32m      3\u001b[0m     score_net\u001b[38;5;241m=\u001b[39mmodel,\n\u001b[0;32m      4\u001b[0m     optimizer\u001b[38;5;241m=\u001b[39moptimizer,\n\u001b[0;32m      5\u001b[0m     num_diffusion_timesteps\u001b[38;5;241m=\u001b[39mnum_diffusion_timesteps,\n\u001b[0;32m      6\u001b[0m     batch_size\u001b[38;5;241m=\u001b[39mbatch_size,\n\u001b[0;32m      7\u001b[0m     num_epochs\u001b[38;5;241m=\u001b[39mnum_epochs,\n\u001b[0;32m      8\u001b[0m     history_len\u001b[38;5;241m=\u001b[39mhistory_len,\n\u001b[0;32m      9\u001b[0m     predict_len\u001b[38;5;241m=\u001b[39mpredict_len,\n\u001b[0;32m     10\u001b[0m     device\u001b[38;5;241m=\u001b[39mdevice,\n\u001b[0;32m     11\u001b[0m     checkpoint_path\u001b[38;5;241m=\u001b[39mcheckpoint_path,\n\u001b[0;32m     12\u001b[0m     save_every\u001b[38;5;241m=\u001b[39m\u001b[38;5;241m100\u001b[39m\n\u001b[0;32m     13\u001b[0m )\n",
      "File \u001b[1;32mc:\\Users\\thoma\\Desktop\\Diffusion\\trainer.py:62\u001b[0m, in \u001b[0;36mtrain_diffusion_model_conditional\u001b[1;34m(data_x, score_net, optimizer, num_diffusion_timesteps, batch_size, num_epochs, history_len, predict_len, device, checkpoint_path, save_every, early_stopping_patience, visualize_every)\u001b[0m\n\u001b[0;32m     60\u001b[0m     loss\u001b[38;5;241m.\u001b[39mbackward()\n\u001b[0;32m     61\u001b[0m     optimizer\u001b[38;5;241m.\u001b[39mstep()\n\u001b[1;32m---> 62\u001b[0m     losses\u001b[38;5;241m.\u001b[39mappend(loss\u001b[38;5;241m.\u001b[39mitem())\n\u001b[0;32m     64\u001b[0m avg_loss \u001b[38;5;241m=\u001b[39m np\u001b[38;5;241m.\u001b[39mmean(losses)\n\u001b[0;32m     65\u001b[0m epoch_losses\u001b[38;5;241m.\u001b[39mappend(avg_loss)\n",
      "\u001b[1;31mKeyboardInterrupt\u001b[0m: "
     ]
    }
   ],
   "source": [
    "train_diffusion_model_conditional(\n",
    "    data_x=data,\n",
    "    score_net=model,\n",
    "    optimizer=optimizer,\n",
    "    num_diffusion_timesteps=num_diffusion_timesteps,\n",
    "    batch_size=batch_size,\n",
    "    num_epochs=num_epochs,\n",
    "    history_len=history_len,\n",
    "    predict_len=predict_len,\n",
    "    device=device,\n",
    "    checkpoint_path=checkpoint_path,\n",
    "    save_every=100\n",
    ")\n"
   ]
  }
 ],
 "metadata": {
  "kernelspec": {
   "display_name": "MachineLearning",
   "language": "python",
   "name": "python3"
  },
  "language_info": {
   "codemirror_mode": {
    "name": "ipython",
    "version": 3
   },
   "file_extension": ".py",
   "mimetype": "text/x-python",
   "name": "python",
   "nbconvert_exporter": "python",
   "pygments_lexer": "ipython3",
   "version": "3.12.9"
  }
 },
 "nbformat": 4,
 "nbformat_minor": 5
}
