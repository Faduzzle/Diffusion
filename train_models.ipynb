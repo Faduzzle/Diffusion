{
 "cells": [
  {
   "cell_type": "code",
   "execution_count": null,
   "id": "590f8343",
   "metadata": {},
   "outputs": [],
   "source": [
    "import torch\n",
    "from data import generate_sine_sequence\n",
    "from sde import VPSDE\n",
    "from model import ScoreTransformer\n",
    "from trainer import train\n",
    "from predictandsave import predict_and_save"
   ]
  },
  {
   "cell_type": "code",
   "execution_count": null,
   "id": "072d1950",
   "metadata": {},
   "outputs": [],
   "source": [
    "# Hyperparameters\n",
    "hist_len = 50\n",
    "pred_len = 20\n",
    "n_samples = 512"
   ]
  },
  {
   "cell_type": "code",
   "execution_count": null,
   "id": "94ad859e",
   "metadata": {},
   "outputs": [],
   "source": [
    "# Generate Data\n",
    "data = generate_sine_sequence(n_samples, hist_len, pred_len)\n",
    "sde = VPSDE()\n",
    "model = ScoreTransformer(hist_len, pred_len)"
   ]
  },
  {
   "cell_type": "code",
   "execution_count": null,
   "id": "e7896cfb",
   "metadata": {},
   "outputs": [],
   "source": [
    "# Device setup\n",
    "device = torch.device(\"cuda\" if torch.cuda.is_available() else \"cpu\")\n",
    "model.to(device)\n",
    "data = data.to(device)"
   ]
  },
  {
   "cell_type": "code",
   "execution_count": null,
   "id": "5c8b738d",
   "metadata": {},
   "outputs": [],
   "source": [
    "# Train\n",
    "train(model, sde, data, hist_len, pred_len, n_epochs=1000)"
   ]
  },
  {
   "cell_type": "code",
   "execution_count": null,
   "id": "b814780d",
   "metadata": {},
   "outputs": [],
   "source": [
    "# Predict & Save\n",
    "predict_and_save(model, sde, data, hist_len, pred_len, save_path='predictions.csv')"
   ]
  }
 ],
 "metadata": {
  "kernelspec": {
   "display_name": "MachineLearning",
   "language": "python",
   "name": "python3"
  },
  "language_info": {
   "codemirror_mode": {
    "name": "ipython",
    "version": 3
   },
   "file_extension": ".py",
   "mimetype": "text/x-python",
   "name": "python",
   "nbconvert_exporter": "python",
   "pygments_lexer": "ipython3",
   "version": "3.12.9"
  }
 },
 "nbformat": 4,
 "nbformat_minor": 5
}
