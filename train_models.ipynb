{
 "cells": [
  {
   "cell_type": "code",
   "execution_count": 1,
   "id": "e270652e",
   "metadata": {},
   "outputs": [
    {
     "name": "stderr",
     "output_type": "stream",
     "text": [
      "c:\\Users\\thoma\\anaconda3\\envs\\MachineLearning\\Lib\\site-packages\\tqdm\\auto.py:21: TqdmWarning: IProgress not found. Please update jupyter and ipywidgets. See https://ipywidgets.readthedocs.io/en/stable/user_install.html\n",
      "  from .autonotebook import tqdm as notebook_tqdm\n"
     ]
    }
   ],
   "source": [
    "import torch\n",
    "from trainer import train_model_from_config  # your main train launcher\n",
    "from config import CONFIG                         # your configuration"
   ]
  },
  {
   "cell_type": "code",
   "execution_count": 2,
   "id": "fcf33255",
   "metadata": {},
   "outputs": [
    {
     "name": "stdout",
     "output_type": "stream",
     "text": [
      "train_csv_path: Data Files/ROLLED_train_data_bitcoin.csv\n",
      "test_csv_path: Data Files/ROLLED_test_data_bitcoin.csv\n",
      "use_csv: True\n",
      "use_synthetic: False\n",
      "history_len: 50\n",
      "predict_len: 20\n",
      "input_dim: 1\n",
      "n_samples: 1000\n",
      "device: cuda\n",
      "n_epochs: 200\n",
      "batch_size: 64\n",
      "lr: 0.001\n",
      "checkpoint_freq: 40\n",
      "checkpoint_dir: checkpoints\n",
      "save_name: bitcoin_csv_trained\n",
      "checkpoint_path: checkpoints/bitcoin_csv_trained.pth\n",
      "num_diffusion_timesteps: 500\n",
      "num_paths: 1000\n"
     ]
    }
   ],
   "source": [
    "# Check training settings\n",
    "for k, v in CONFIG.items():\n",
    "    print(f\"{k}: {v}\")"
   ]
  },
  {
   "cell_type": "code",
   "execution_count": null,
   "id": "5b2014f6",
   "metadata": {},
   "outputs": [
    {
     "name": "stdout",
     "output_type": "stream",
     "text": [
      "🖥️ Using device: cuda\n",
      "✅ Detected normalization factor (percentile): 46686.4961\n"
     ]
    },
    {
     "name": "stderr",
     "output_type": "stream",
     "text": [
      "Training:  48%|██████████████████▉                    | 97/200 [12:41<48:36, 28.32s/it, loss=0.0155]"
     ]
    }
   ],
   "source": [
    "train_model_from_config()\n"
   ]
  }
 ],
 "metadata": {
  "kernelspec": {
   "display_name": "MachineLearning",
   "language": "python",
   "name": "python3"
  },
  "language_info": {
   "codemirror_mode": {
    "name": "ipython",
    "version": 3
   },
   "file_extension": ".py",
   "mimetype": "text/x-python",
   "name": "python",
   "nbconvert_exporter": "python",
   "pygments_lexer": "ipython3",
   "version": "3.12.9"
  }
 },
 "nbformat": 4,
 "nbformat_minor": 5
}
