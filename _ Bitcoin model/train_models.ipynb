{
 "cells": [
  {
   "cell_type": "code",
   "execution_count": 1,
   "id": "e270652e",
   "metadata": {},
   "outputs": [
    {
     "name": "stderr",
     "output_type": "stream",
     "text": [
      "c:\\Users\\thoma\\anaconda3\\envs\\MachineLearning\\Lib\\site-packages\\tqdm\\auto.py:21: TqdmWarning: IProgress not found. Please update jupyter and ipywidgets. See https://ipywidgets.readthedocs.io/en/stable/user_install.html\n",
      "  from .autonotebook import tqdm as notebook_tqdm\n"
     ]
    }
   ],
   "source": [
    "import torch\n",
    "from trainer import train_model_from_config  # your main train launcher\n",
    "from config import CONFIG                         # your configuration"
   ]
  },
  {
   "cell_type": "code",
   "execution_count": 2,
   "id": "fcf33255",
   "metadata": {},
   "outputs": [
    {
     "name": "stdout",
     "output_type": "stream",
     "text": [
      "train_csv_path: Data Files/ROLLED_train_data_bitcoin.csv\n",
      "test_csv_path: Data Files/ROLLED_test_data_bitcoin.csv\n",
      "use_csv: True\n",
      "use_synthetic: False\n",
      "history_len: 50\n",
      "predict_len: 20\n",
      "input_dim: 1\n",
      "n_samples: 1000\n",
      "device: cuda\n",
      "n_epochs: 500\n",
      "batch_size: 64\n",
      "lr: 0.001\n",
      "checkpoint_freq: 100\n",
      "checkpoint_dir: checkpoints\n",
      "save_name: bitcoin_csv_trained\n",
      "checkpoint_path: checkpoints/latest.pth\n",
      "num_diffusion_timesteps: 500\n",
      "num_paths: 1000\n"
     ]
    }
   ],
   "source": [
    "# Check training settings\n",
    "for k, v in CONFIG.items():\n",
    "    print(f\"{k}: {v}\")"
   ]
  },
  {
   "cell_type": "code",
   "execution_count": 3,
   "id": "5b2014f6",
   "metadata": {},
   "outputs": [
    {
     "name": "stdout",
     "output_type": "stream",
     "text": [
      "🖥️ Using device: cuda\n",
      "✅ Detected normalization factor (percentile): 46686.4961\n"
     ]
    },
    {
     "name": "stderr",
     "output_type": "stream",
     "text": [
      "Training:  49%|████████████████████▉                      | 244/500 [20:13<21:13,  4.97s/it, loss=1]\n"
     ]
    },
    {
     "ename": "KeyboardInterrupt",
     "evalue": "",
     "output_type": "error",
     "traceback": [
      "\u001b[1;31m---------------------------------------------------------------------------\u001b[0m",
      "\u001b[1;31mKeyboardInterrupt\u001b[0m                         Traceback (most recent call last)",
      "Cell \u001b[1;32mIn[3], line 1\u001b[0m\n\u001b[1;32m----> 1\u001b[0m train_model_from_config()\n",
      "File \u001b[1;32mc:\\Users\\thoma\\Desktop\\Diffusion\\trainer.py:122\u001b[0m, in \u001b[0;36mtrain_model_from_config\u001b[1;34m()\u001b[0m\n\u001b[0;32m    113\u001b[0m     \u001b[38;5;28;01mraise\u001b[39;00m \u001b[38;5;167;01mValueError\u001b[39;00m(\u001b[38;5;124m\"\u001b[39m\u001b[38;5;124mSpecify either \u001b[39m\u001b[38;5;124m'\u001b[39m\u001b[38;5;124muse_csv\u001b[39m\u001b[38;5;124m'\u001b[39m\u001b[38;5;124m or \u001b[39m\u001b[38;5;124m'\u001b[39m\u001b[38;5;124muse_synthetic\u001b[39m\u001b[38;5;124m'\u001b[39m\u001b[38;5;124m in CONFIG.\u001b[39m\u001b[38;5;124m\"\u001b[39m)\n\u001b[0;32m    115\u001b[0m model \u001b[38;5;241m=\u001b[39m ScoreTransformerNet(\n\u001b[0;32m    116\u001b[0m     input_dim\u001b[38;5;241m=\u001b[39mCONFIG[\u001b[38;5;124m\"\u001b[39m\u001b[38;5;124minput_dim\u001b[39m\u001b[38;5;124m\"\u001b[39m],\n\u001b[0;32m    117\u001b[0m     history_len\u001b[38;5;241m=\u001b[39mCONFIG[\u001b[38;5;124m\"\u001b[39m\u001b[38;5;124mhistory_len\u001b[39m\u001b[38;5;124m\"\u001b[39m],\n\u001b[0;32m    118\u001b[0m     predict_len\u001b[38;5;241m=\u001b[39mCONFIG[\u001b[38;5;124m\"\u001b[39m\u001b[38;5;124mpredict_len\u001b[39m\u001b[38;5;124m\"\u001b[39m],\n\u001b[0;32m    119\u001b[0m     model_dim\u001b[38;5;241m=\u001b[39mCONFIG\u001b[38;5;241m.\u001b[39mget(\u001b[38;5;124m\"\u001b[39m\u001b[38;5;124mmodel_dim\u001b[39m\u001b[38;5;124m\"\u001b[39m, \u001b[38;5;241m256\u001b[39m),\n\u001b[0;32m    120\u001b[0m )\u001b[38;5;241m.\u001b[39mto(device)\n\u001b[1;32m--> 122\u001b[0m sde \u001b[38;5;241m=\u001b[39m VPSDE(bmin\u001b[38;5;241m=\u001b[39m\u001b[38;5;241m0.1\u001b[39m, bmax\u001b[38;5;241m=\u001b[39m\u001b[38;5;241m20.0\u001b[39m)\n\u001b[0;32m    124\u001b[0m train(\n\u001b[0;32m    125\u001b[0m     model, sde, data,\n\u001b[0;32m    126\u001b[0m     history_len\u001b[38;5;241m=\u001b[39mCONFIG[\u001b[38;5;124m\"\u001b[39m\u001b[38;5;124mhistory_len\u001b[39m\u001b[38;5;124m\"\u001b[39m],\n\u001b[1;32m   (...)\u001b[0m\n\u001b[0;32m    135\u001b[0m     norm_factor\u001b[38;5;241m=\u001b[39mnorm_factor\n\u001b[0;32m    136\u001b[0m )\n",
      "File \u001b[1;32mc:\\Users\\thoma\\Desktop\\Diffusion\\trainer.py:53\u001b[0m, in \u001b[0;36mtrain\u001b[1;34m(model, sde, data, history_len, predict_len, n_epochs, batch_size, lr, save_dir, checkpoint_freq, device, save_name)\u001b[0m\n\u001b[0;32m     51\u001b[0m avg_loss \u001b[38;5;241m=\u001b[39m total_loss \u001b[38;5;241m/\u001b[39m \u001b[38;5;28mlen\u001b[39m(loader)\n\u001b[0;32m     52\u001b[0m loss_history\u001b[38;5;241m.\u001b[39mappend(avg_loss)\n\u001b[1;32m---> 53\u001b[0m global_bar\u001b[38;5;241m.\u001b[39mset_postfix(loss\u001b[38;5;241m=\u001b[39mavg_loss)\n\u001b[0;32m     55\u001b[0m \u001b[38;5;28;01mif\u001b[39;00m (epoch \u001b[38;5;241m+\u001b[39m \u001b[38;5;241m1\u001b[39m) \u001b[38;5;241m%\u001b[39m checkpoint_freq \u001b[38;5;241m==\u001b[39m \u001b[38;5;241m0\u001b[39m \u001b[38;5;129;01mor\u001b[39;00m (epoch \u001b[38;5;241m+\u001b[39m \u001b[38;5;241m1\u001b[39m) \u001b[38;5;241m==\u001b[39m n_epochs:\n\u001b[0;32m     56\u001b[0m     epoch_path \u001b[38;5;241m=\u001b[39m os\u001b[38;5;241m.\u001b[39mpath\u001b[38;5;241m.\u001b[39mjoin(save_dir, \u001b[38;5;124mf\u001b[39m\u001b[38;5;124m\"\u001b[39m\u001b[38;5;124mmodel_epoch_\u001b[39m\u001b[38;5;132;01m{\u001b[39;00mepoch\u001b[38;5;241m+\u001b[39m\u001b[38;5;241m1\u001b[39m\u001b[38;5;132;01m:\u001b[39;00m\u001b[38;5;124m04d\u001b[39m\u001b[38;5;132;01m}\u001b[39;00m\u001b[38;5;124m.pt\u001b[39m\u001b[38;5;124m\"\u001b[39m)\n",
      "\u001b[1;31mKeyboardInterrupt\u001b[0m: "
     ]
    }
   ],
   "source": [
    "train_model_from_config()\n"
   ]
  }
 ],
 "metadata": {
  "kernelspec": {
   "display_name": "MachineLearning",
   "language": "python",
   "name": "python3"
  },
  "language_info": {
   "codemirror_mode": {
    "name": "ipython",
    "version": 3
   },
   "file_extension": ".py",
   "mimetype": "text/x-python",
   "name": "python",
   "nbconvert_exporter": "python",
   "pygments_lexer": "ipython3",
   "version": "3.12.9"
  }
 },
 "nbformat": 4,
 "nbformat_minor": 5
}
