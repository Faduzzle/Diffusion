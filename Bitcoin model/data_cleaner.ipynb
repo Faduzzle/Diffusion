{
 "cells": [
  {
   "cell_type": "code",
   "execution_count": 1,
   "id": "0202cb4b",
   "metadata": {},
   "outputs": [],
   "source": [
    "import os\n",
    "import numpy as np\n",
    "import pandas as pd\n",
    "from glob import glob\n",
    "from config import CONFIG\n"
   ]
  },
  {
   "cell_type": "code",
   "execution_count": 2,
   "id": "9c2cf88a",
   "metadata": {},
   "outputs": [],
   "source": [
    "\n",
    "def format_date_column(df, date_column=\"Date\"):\n",
    "    if date_column in df.columns:\n",
    "        df[date_column] = pd.to_datetime(df[date_column], errors=\"coerce\")\n",
    "        df = df.dropna(subset=[date_column])\n",
    "        df = df.set_index(date_column)\n",
    "    else:\n",
    "        raise ValueError(f\"'{date_column}' column not found.\")\n",
    "\n",
    "    df[\"Year\"] = df.index.year\n",
    "    df[\"Month\"] = df.index.month\n",
    "    df[\"Day\"] = df.index.day\n",
    "\n",
    "    return df\n"
   ]
  },
  {
   "cell_type": "code",
   "execution_count": 16,
   "id": "a507b92c",
   "metadata": {},
   "outputs": [],
   "source": [
    "def compute_log_returns(df, value_column=\"Close\"):\n",
    "    if value_column not in df.columns:\n",
    "        raise ValueError(f\"Column '{value_column}' not found in DataFrame.\")\n",
    "\n",
    "    df = format_date_column(df, date_column=\"Start\")\n",
    "    log_return = np.log(df[value_column]) - np.log(df[value_column].shift(1))\n",
    "\n",
    "    result = pd.DataFrame({\n",
    "        \"Start\": df.index,\n",
    "        \"Year\": df[\"Year\"],\n",
    "        \"Month\": df[\"Month\"],\n",
    "        \"Day\": df[\"Day\"],\n",
    "        \"Value\": log_return\n",
    "    }).dropna()\n",
    "\n",
    "    return result\n",
    "\n",
    "def zscore_normalize(df):\n",
    "    df = format_date_column(df, date_column=\"Start\")\n",
    "    numeric_df = df.select_dtypes(include=[np.number])\n",
    "    df = df.drop(columns=numeric_df.columns, errors='ignore')\n",
    "    normalized = (numeric_df - numeric_df.mean()) / numeric_df.std(ddof=0)\n",
    "    return pd.concat([df.reset_index(), normalized], axis=1).dropna()\n",
    "\n",
    "def minmax_normalize(df, feature_range=(0, 1)):\n",
    "    df = format_date_column(df, date_column=\"Start\")\n",
    "    numeric_df = df.select_dtypes(include=[np.number])\n",
    "    df = df.drop(columns=numeric_df.columns, errors='ignore')\n",
    "    min_val = numeric_df.min()\n",
    "    max_val = numeric_df.max()\n",
    "    scale = feature_range[1] - feature_range[0]\n",
    "    normalized = feature_range[0] + (numeric_df - min_val) / (max_val - min_val) * scale\n",
    "    return pd.concat([df.reset_index(), normalized], axis=1).dropna()\n"
   ]
  },
  {
   "cell_type": "code",
   "execution_count": 4,
   "id": "579e7135",
   "metadata": {},
   "outputs": [],
   "source": [
    "def split_and_save(df, base_filename, split_ratio=0.9):\n",
    "    split_idx = int(len(df) * split_ratio)\n",
    "    train_df = df.iloc[:split_idx]\n",
    "    test_df = df.iloc[split_idx:]\n",
    "\n",
    "    train_path = os.path.join(\"training data\", f\"{base_filename}_train.csv\")\n",
    "    test_path = os.path.join(\"testing data\", f\"{base_filename}_test.csv\")\n",
    "\n",
    "    os.makedirs(\"training data\", exist_ok=True)\n",
    "    os.makedirs(\"testing data\", exist_ok=True)\n",
    "\n",
    "    train_df.to_csv(train_path, index=False)\n",
    "    test_df.to_csv(test_path, index=False)\n",
    "\n",
    "    print(f\"✅ {base_filename} — Train: {len(train_df)} → training data/\")\n",
    "    print(f\"✅ {base_filename} — Test: {len(test_df)} → testing data/\")\n"
   ]
  },
  {
   "cell_type": "code",
   "execution_count": 5,
   "id": "35c328a6",
   "metadata": {},
   "outputs": [],
   "source": [
    "def normalize_and_split(csv_path, transformer_fn, date_column=\"Date\", split_ratio=0.9):\n",
    "    df = pd.read_csv(csv_path)\n",
    "    df = transformer_fn(df)\n",
    "    base_filename = os.path.splitext(os.path.basename(csv_path))[0]\n",
    "    split_and_save(df, base_filename, split_ratio)\n"
   ]
  },
  {
   "cell_type": "code",
   "execution_count": 6,
   "id": "0f35a43c",
   "metadata": {},
   "outputs": [],
   "source": [
    "def process_all_csvs(root_dir, transformer_fn, date_column=\"Date\", split_ratio=0.9):\n",
    "    csv_files = glob(os.path.join(root_dir, \"**\", \"*.csv\"), recursive=True)\n",
    "    print(f\"🔍 Found {len(csv_files)} CSV file(s) in {root_dir}\")\n",
    "\n",
    "    for csv_path in csv_files:\n",
    "        try:\n",
    "            normalize_and_split(\n",
    "                csv_path,\n",
    "                transformer_fn=transformer_fn,\n",
    "                date_column=date_column,\n",
    "                split_ratio=split_ratio\n",
    "            )\n",
    "        except Exception as e:\n",
    "            print(f\"❌ Failed to process {csv_path}: {e}\")\n"
   ]
  },
  {
   "cell_type": "markdown",
   "id": "5dd1d404",
   "metadata": {},
   "source": [
    "#### Option 1: Normalize a single file\n",
    "```\n",
    "normalize_and_split(\n",
    "    csv_path=\"Data Files/bitcoin.csv\",\n",
    "    transformer_fn=compute_log_returns\n",
    ")\n",
    "```\n",
    "#### Option 2: Normalize all files in a folder\n",
    "```\n",
    "process_all_csvs(\n",
    "    root_dir=\"Data Files\",\n",
    "    transformer_fn=compute_log_returns\n",
    ")\n",
    "```"
   ]
  },
  {
   "cell_type": "code",
   "execution_count": 17,
   "id": "d628eb86",
   "metadata": {},
   "outputs": [
    {
     "name": "stdout",
     "output_type": "stream",
     "text": [
      "✅ bitcoin_2010-07-29_2025-04-25 — Train: 4844 → training data/\n",
      "✅ bitcoin_2010-07-29_2025-04-25 — Test: 539 → testing data/\n"
     ]
    }
   ],
   "source": [
    "normalize_and_split(r'C:\\Users\\thoma\\Desktop\\Diffusion\\Bitcoin model\\Data Files\\bitcoin_2010-07-29_2025-04-25.csv',\n",
    "                    transformer_fn=compute_log_returns, \n",
    "                    date_column=\"Start\", \n",
    "                    split_ratio=0.9)"
   ]
  }
 ],
 "metadata": {
  "kernelspec": {
   "display_name": "MachineLearning",
   "language": "python",
   "name": "python3"
  },
  "language_info": {
   "codemirror_mode": {
    "name": "ipython",
    "version": 3
   },
   "file_extension": ".py",
   "mimetype": "text/x-python",
   "name": "python",
   "nbconvert_exporter": "python",
   "pygments_lexer": "ipython3",
   "version": "3.12.9"
  }
 },
 "nbformat": 4,
 "nbformat_minor": 5
}
