{
 "cells": [
  {
   "cell_type": "code",
   "execution_count": 1,
   "id": "e270652e",
   "metadata": {},
   "outputs": [
    {
     "name": "stderr",
     "output_type": "stream",
     "text": [
      "c:\\Users\\thoma\\anaconda3\\envs\\MachineLearning\\Lib\\site-packages\\tqdm\\auto.py:21: TqdmWarning: IProgress not found. Please update jupyter and ipywidgets. See https://ipywidgets.readthedocs.io/en/stable/user_install.html\n",
      "  from .autonotebook import tqdm as notebook_tqdm\n"
     ]
    }
   ],
   "source": [
    "import torch\n",
    "from trainer import train_model_from_config  # your main train launcher\n",
    "from config import CONFIG                         # your configuration\n",
    "\n",
    "%matplotlib inline\n"
   ]
  },
  {
   "cell_type": "code",
   "execution_count": 2,
   "id": "fcf33255",
   "metadata": {},
   "outputs": [
    {
     "name": "stdout",
     "output_type": "stream",
     "text": [
      "history_len: 50\n",
      "predict_len: 20\n",
      "model_dim: 256\n",
      "n_epochs: 500\n",
      "samples_per_epoch: 700\n",
      "batch_size: 64\n",
      "lr: 0.001\n",
      "ema_decay: 0.999\n",
      "checkpoint_freq: 50\n",
      "checkpoint_dir: checkpoints\n",
      "save_name: diffusion_model\n",
      "mask_prob: 0.01\n",
      "device: cuda\n",
      "checkpoint_path: C:\\Users\\thoma\\Desktop\\Diffusion\\Bitcoin model\\checkpoints\\diffusion_model.pth\n",
      "num_diffusion_timesteps: 500\n",
      "num_paths: 500\n"
     ]
    }
   ],
   "source": [
    "# Check training settings\n",
    "for k, v in CONFIG.items():\n",
    "    print(f\"{k}: {v}\")"
   ]
  },
  {
   "cell_type": "code",
   "execution_count": 4,
   "id": "5b2014f6",
   "metadata": {},
   "outputs": [
    {
     "name": "stdout",
     "output_type": "stream",
     "text": [
      "🖥️ Using device: cuda\n"
     ]
    },
    {
     "name": "stderr",
     "output_type": "stream",
     "text": [
      "Training:  41%|███████████████▉                       | 204/500 [03:19<04:49,  1.02it/s, loss=0.023]\n"
     ]
    },
    {
     "ename": "KeyboardInterrupt",
     "evalue": "",
     "output_type": "error",
     "traceback": [
      "\u001b[1;31m---------------------------------------------------------------------------\u001b[0m",
      "\u001b[1;31mKeyboardInterrupt\u001b[0m                         Traceback (most recent call last)",
      "Cell \u001b[1;32mIn[4], line 1\u001b[0m\n\u001b[1;32m----> 1\u001b[0m train_model_from_config()\n",
      "File \u001b[1;32mc:\\Users\\thoma\\Desktop\\Diffusion\\Bitcoin model\\trainer.py:104\u001b[0m, in \u001b[0;36mtrain_model_from_config\u001b[1;34m()\u001b[0m\n\u001b[0;32m     96\u001b[0m model \u001b[38;5;241m=\u001b[39m ScoreTransformerNet(\n\u001b[0;32m     97\u001b[0m     input_dim\u001b[38;5;241m=\u001b[39mtrain_tensor\u001b[38;5;241m.\u001b[39mshape[\u001b[38;5;241m-\u001b[39m\u001b[38;5;241m1\u001b[39m],\n\u001b[0;32m     98\u001b[0m     history_len\u001b[38;5;241m=\u001b[39mhistory_len,\n\u001b[0;32m     99\u001b[0m     predict_len\u001b[38;5;241m=\u001b[39mpredict_len,\n\u001b[0;32m    100\u001b[0m     model_dim\u001b[38;5;241m=\u001b[39mCONFIG\u001b[38;5;241m.\u001b[39mget(\u001b[38;5;124m\"\u001b[39m\u001b[38;5;124mmodel_dim\u001b[39m\u001b[38;5;124m\"\u001b[39m, \u001b[38;5;241m256\u001b[39m)\n\u001b[0;32m    101\u001b[0m )\u001b[38;5;241m.\u001b[39mto(device)\n\u001b[0;32m    103\u001b[0m sde \u001b[38;5;241m=\u001b[39m VPSDE()\n\u001b[1;32m--> 104\u001b[0m train(model, sde, dataset,\n\u001b[0;32m    105\u001b[0m       history_len\u001b[38;5;241m=\u001b[39mhistory_len,\n\u001b[0;32m    106\u001b[0m       predict_len\u001b[38;5;241m=\u001b[39mpredict_len,\n\u001b[0;32m    107\u001b[0m       n_epochs\u001b[38;5;241m=\u001b[39mCONFIG[\u001b[38;5;124m\"\u001b[39m\u001b[38;5;124mn_epochs\u001b[39m\u001b[38;5;124m\"\u001b[39m],\n\u001b[0;32m    108\u001b[0m       batch_size\u001b[38;5;241m=\u001b[39mCONFIG[\u001b[38;5;124m\"\u001b[39m\u001b[38;5;124mbatch_size\u001b[39m\u001b[38;5;124m\"\u001b[39m],\n\u001b[0;32m    109\u001b[0m       lr\u001b[38;5;241m=\u001b[39mCONFIG[\u001b[38;5;124m\"\u001b[39m\u001b[38;5;124mlr\u001b[39m\u001b[38;5;124m\"\u001b[39m],\n\u001b[0;32m    110\u001b[0m       save_dir\u001b[38;5;241m=\u001b[39mCONFIG[\u001b[38;5;124m\"\u001b[39m\u001b[38;5;124mcheckpoint_dir\u001b[39m\u001b[38;5;124m\"\u001b[39m],\n\u001b[0;32m    111\u001b[0m       checkpoint_freq\u001b[38;5;241m=\u001b[39mCONFIG[\u001b[38;5;124m\"\u001b[39m\u001b[38;5;124mcheckpoint_freq\u001b[39m\u001b[38;5;124m\"\u001b[39m],\n\u001b[0;32m    112\u001b[0m       save_name\u001b[38;5;241m=\u001b[39mCONFIG[\u001b[38;5;124m\"\u001b[39m\u001b[38;5;124msave_name\u001b[39m\u001b[38;5;124m\"\u001b[39m],\n\u001b[0;32m    113\u001b[0m       device\u001b[38;5;241m=\u001b[39mdevice)\n",
      "File \u001b[1;32mc:\\Users\\thoma\\Desktop\\Diffusion\\Bitcoin model\\trainer.py:54\u001b[0m, in \u001b[0;36mtrain\u001b[1;34m(model, sde, dataset, history_len, predict_len, n_epochs, batch_size, lr, save_dir, checkpoint_freq, device, save_name, ema_decay)\u001b[0m\n\u001b[0;32m     51\u001b[0m     optimizer\u001b[38;5;241m.\u001b[39mstep()\n\u001b[0;32m     52\u001b[0m     update_ema(ema_model, model, ema_decay)\n\u001b[1;32m---> 54\u001b[0m     total_loss \u001b[38;5;241m+\u001b[39m\u001b[38;5;241m=\u001b[39m loss\u001b[38;5;241m.\u001b[39mitem()\n\u001b[0;32m     56\u001b[0m avg_loss \u001b[38;5;241m=\u001b[39m total_loss \u001b[38;5;241m/\u001b[39m \u001b[38;5;28mlen\u001b[39m(loader)\n\u001b[0;32m     57\u001b[0m loss_history\u001b[38;5;241m.\u001b[39mappend(avg_loss)\n",
      "\u001b[1;31mKeyboardInterrupt\u001b[0m: "
     ]
    }
   ],
   "source": [
    "train_model_from_config()\n"
   ]
  }
 ],
 "metadata": {
  "kernelspec": {
   "display_name": "MachineLearning",
   "language": "python",
   "name": "python3"
  },
  "language_info": {
   "codemirror_mode": {
    "name": "ipython",
    "version": 3
   },
   "file_extension": ".py",
   "mimetype": "text/x-python",
   "name": "python",
   "nbconvert_exporter": "python",
   "pygments_lexer": "ipython3",
   "version": "3.12.9"
  }
 },
 "nbformat": 4,
 "nbformat_minor": 5
}
