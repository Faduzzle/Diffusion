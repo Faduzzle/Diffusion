{
 "cells": [
  {
   "cell_type": "code",
   "execution_count": 1,
   "id": "e270652e",
   "metadata": {},
   "outputs": [
    {
     "name": "stderr",
     "output_type": "stream",
     "text": [
      "c:\\Users\\thoma\\anaconda3\\envs\\MachineLearning\\Lib\\site-packages\\tqdm\\auto.py:21: TqdmWarning: IProgress not found. Please update jupyter and ipywidgets. See https://ipywidgets.readthedocs.io/en/stable/user_install.html\n",
      "  from .autonotebook import tqdm as notebook_tqdm\n"
     ]
    }
   ],
   "source": [
    "import torch\n",
    "from model import ScoreTransformerNet\n",
    "from data import generate_sine_sequence\n",
    "from sde import VPSDE\n",
    "from trainer import train\n"
   ]
  },
  {
   "cell_type": "code",
   "execution_count": 2,
   "id": "6eb7c7a9",
   "metadata": {},
   "outputs": [
    {
     "name": "stdout",
     "output_type": "stream",
     "text": [
      "Using device: cuda\n"
     ]
    }
   ],
   "source": [
    "device = torch.device(\"cuda\" if torch.cuda.is_available() else \"cpu\")\n",
    "print(f\"Using device: {device}\")\n",
    "# Model and training config\n",
    "history_len = 50\n",
    "predict_len = 50\n",
    "total_seq_len = history_len + predict_len\n",
    "input_dim = 1\n",
    "n_samples = 512\n",
    "n_epochs = 500\n",
    "checkpoint_freq = 100\n"
   ]
  },
  {
   "cell_type": "code",
   "execution_count": null,
   "id": "72d21d6c",
   "metadata": {},
   "outputs": [],
   "source": [
    "params = {\n",
    "    \"history_len\" : 50,\n",
    "    \"predict_len\" : 50,\n",
    "    \"input_dim\" : 1,\n",
    "    \"n_samples\" : 512,\n",
    "    \"n_epochs\" : 500,\n",
    "    \"checkpoint_freq\" : 100,\n",
    "    \"sine_amplitude\": 1.0,\n",
    "    \"sine_freq\": 0.5,\n",
    "    \"slope\": 0.0,\n",
    "    \"trend_type\": \"linear\",\n",
    "    \"noise_std\": 0.1,\n",
    "    \"constant_variance\": True,\n",
    "    \"seasonality\": True,\n",
    "    \"jumps\": True,\n",
    "    \"spike_prob\": 0.01,        # Higher prob for clearer plots\n",
    "    \"jump_scale\": 2.5,\n",
    "    \"jump_tau\": 8,\n",
    "    \"return_components\": True\n",
    "}\n",
    "params[\"total_seq_len\"] = params[\"history_len\"] + params[\"predict_len\"]\n",
    "\n",
    "\n",
    "data = generate_sine_sequence(n_samples=n_samples, total_seq_len=total_seq_len).to(device)"
   ]
  },
  {
   "cell_type": "code",
   "execution_count": 4,
   "id": "0285e84d",
   "metadata": {},
   "outputs": [],
   "source": [
    "model = ScoreTransformerNet(\n",
    "    input_dim=input_dim,\n",
    "    history_len=history_len,\n",
    "    predict_len=predict_len,\n",
    "    model_dim=256,\n",
    "    num_heads=4,\n",
    "    num_layers=4\n",
    ").to(device)\n",
    "\n",
    "sde = VPSDE()\n"
   ]
  },
  {
   "cell_type": "code",
   "execution_count": 5,
   "id": "30dc1ec0",
   "metadata": {},
   "outputs": [
    {
     "name": "stderr",
     "output_type": "stream",
     "text": [
      "Training: 100%|██████████████████████████████████████| 500/500 [07:54<00:00,  1.05it/s, loss=0.0467]"
     ]
    },
    {
     "name": "stdout",
     "output_type": "stream",
     "text": [
      "\n",
      "✅ Training complete in 474.39 seconds (7.91 min)\n"
     ]
    },
    {
     "name": "stderr",
     "output_type": "stream",
     "text": [
      "\n"
     ]
    }
   ],
   "source": [
    "train(model, sde, data, history_len=50, predict_len=50, n_epochs=n_epochs, checkpoint_freq=checkpoint_freq)"
   ]
  }
 ],
 "metadata": {
  "kernelspec": {
   "display_name": "MachineLearning",
   "language": "python",
   "name": "python3"
  },
  "language_info": {
   "codemirror_mode": {
    "name": "ipython",
    "version": 3
   },
   "file_extension": ".py",
   "mimetype": "text/x-python",
   "name": "python",
   "nbconvert_exporter": "python",
   "pygments_lexer": "ipython3",
   "version": "3.12.9"
  }
 },
 "nbformat": 4,
 "nbformat_minor": 5
}
